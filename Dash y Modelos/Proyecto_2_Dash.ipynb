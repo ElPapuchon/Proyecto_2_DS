{
 "cells": [
  {
   "cell_type": "code",
   "execution_count": 1,
   "metadata": {},
   "outputs": [],
   "source": [
    "#Importamos las librerias a utilizar.\n",
    "import numpy as np\n",
    "import neattext as nt\n",
    "import joblib as jbl\n",
    "import os"
   ]
  },
  {
   "cell_type": "code",
   "execution_count": 2,
   "metadata": {},
   "outputs": [],
   "source": [
    "def resultado_class(X):\n",
    "    media = np.mean(X)\n",
    "    \n",
    "    if media >=0.10 and media < 0.15:\n",
    "        return \"Es poco probable que el tweet sea de un desastre\"\n",
    "    elif media >=0.15 and media <0.25:\n",
    "        return \"Es bastante probable que el tweet sea de un desastre\"\n",
    "    elif media >= 0.25 and media <0.50:\n",
    "        return \"Es altamente probable que el tweet sea de un desastre\"\n",
    "    elif media >=0.50 and media <=1:\n",
    "        return \"El tweet es de un desastre\"\n",
    "    else: \n",
    "        return \"El Tweet no es de un desastre\""
   ]
  },
  {
   "cell_type": "code",
   "execution_count": 3,
   "metadata": {},
   "outputs": [],
   "source": [
    "def limpiar(text):\n",
    "\n",
    "    text = nt.TextFrame(str(text)).remove_stopwords(lang = \"en\")\n",
    "    text = nt.TextFrame(str(text)).remove_emails()\n",
    "    text = nt.TextFrame(str(text)).remove_numbers()\n",
    "    text = nt.TextFrame(str(text)).remove_phone_numbers()\n",
    "    text = nt.TextFrame(str(text)).remove_btc_address()\n",
    "    text = nt.TextFrame(str(text)).remove_urls()\n",
    "    text = nt.TextFrame(str(text)).remove_emojis()\n",
    "    text = nt.TextFrame(str(text)).remove_html_tags()\n",
    "    text = nt.TextFrame(str(text)).remove_puncts()\n",
    "    text = nt.TextFrame(str(text)).remove_special_characters()\n",
    "    text = nt.TextFrame(str(text)).remove_stopwords(lang = \"en\")\n",
    "    text = text.word_tokens()\n",
    "    return text\n"
   ]
  },
  {
   "cell_type": "code",
   "execution_count": 17,
   "metadata": {},
   "outputs": [],
   "source": [
    "count_vec= jbl.load(\"vectorizer\")\n",
    "tfidf_vec= jbl.load(\"tfdvectorizer\")"
   ]
  },
  {
   "cell_type": "code",
   "execution_count": 7,
   "metadata": {},
   "outputs": [],
   "source": [
    "model_naive = jbl.load(\"naive_bayes\")\n",
    "model_logistic = jbl.load(\"logistic_regresion\")\n",
    "model_logistic_2 = jbl.load(\"logistic_regresion_V\")"
   ]
  },
  {
   "cell_type": "code",
   "execution_count": 8,
   "metadata": {},
   "outputs": [],
   "source": [
    "import dash\n",
    "from dash import html\n",
    "from dash import dcc\n",
    "from dash.dependencies import Input, Output, State\n",
    "\n",
    "\n",
    "import warnings\n",
    "warnings.filterwarnings(\"ignore\")"
   ]
  },
  {
   "cell_type": "code",
   "execution_count": 19,
   "metadata": {},
   "outputs": [],
   "source": [
    "app = dash.Dash()\n",
    "\n",
    "app.layout = html.Div(id = 'parent', children = [\n",
    "    html.H1(id = 'H1', children = 'Predicción de Tweets', style = {'textAlign':'center',\\\n",
    "                                            'marginTop':40,'marginBottom':40}),\n",
    "        html.P(\"Modelos\"),  #para texto\n",
    "        dcc.Dropdown(id = 'dropdown', #menu de opciones \n",
    "        options = [\n",
    "            {'label':'Naive - Bayes (Más recomendado)', 'value':'bayes'}, #lsita de opciones \"label\" el valor que se muestra en pantalla\n",
    "            {'label': 'Regresion Logistica + Vectorizador (recomendado)', 'value':'regresionLV'}, #value es el valor del dropdown\n",
    "            {'label': 'Regresion Logistica (menos recomendado)', 'value':'regresionL'},\n",
    "            ],\n",
    "        value = 'bayes'), #valor inicial \n",
    "    \n",
    "    dcc.Textarea(\n",
    "        id='text_area',\n",
    "        value='',\n",
    "        style={'width': '100%', 'height': 200},\n",
    "    ),\n",
    "    html.Button('Predecir', id='button', n_clicks=0),\n",
    "    html.Button(\"Limpiar Texto\", id = \"button2\", n_clicks = 0),\n",
    "    html.Div(id='resultado', style={'whiteSpace': 'pre-line', \"font-size\": \"large\"})])\n",
    "\n",
    "\n",
    "    \n",
    "    \n",
    "@app.callback(\n",
    "    Output('resultado', 'children'),\n",
    "    Input(\"dropdown\", \"value\"),\n",
    "    Input('button', 'n_clicks'),\n",
    "    Input(\"button2\", \"n_clicks_2\"),\n",
    "    State('text_area', 'value')\n",
    ")\n",
    "\n",
    "def update_output(dropdown_value,n_clicks, n_clicks_2, text):\n",
    "    \n",
    "    if n_clicks > 0:\n",
    "        clean_text = limpiar(text)\n",
    "        if dropdown_value == \"bayes\":\n",
    "            x_test=count_vec.transform(clean_text)\n",
    "            resultado = model_naive.predict(x_test)\n",
    "            text = \"\"\n",
    "            \n",
    "            return 'Usando NAIVE - BAYES: \\n{}'.format(resultado_class(resultado))\n",
    "        elif dropdown_value == \"regresionL\":\n",
    "            x_test=count_vec.transform(clean_text)\n",
    "            resultado = model_logistic.predict(x_test)\n",
    "\n",
    "            \n",
    "            return 'Usando Regresión Lineal :  \\n{}'.format(resultado_class(resultado))\n",
    "        else:\n",
    "            x_test=tfidf_vec.transform(clean_text)\n",
    "            resultado = model_logistic_2.predict(x_test)\n",
    "\n",
    "            \n",
    "            return 'Usando Regresión Lineal +  Vectorizador: \\n{}'.format(resultado_class(resultado))\n",
    "        \n",
    "    "
   ]
  },
  {
   "cell_type": "code",
   "execution_count": 20,
   "metadata": {},
   "outputs": [
    {
     "name": "stdout",
     "output_type": "stream",
     "text": [
      "Dash is running on http://127.0.0.1:8050/\n",
      "\n",
      "Dash is running on http://127.0.0.1:8050/\n",
      "\n",
      " * Serving Flask app \"__main__\" (lazy loading)\n",
      " * Environment: production\n",
      "   WARNING: This is a development server. Do not use it in a production deployment.\n",
      "   Use a production WSGI server instead.\n",
      " * Debug mode: off\n"
     ]
    },
    {
     "name": "stderr",
     "output_type": "stream",
     "text": [
      " * Running on http://127.0.0.1:8050/ (Press CTRL+C to quit)\n",
      "127.0.0.1 - - [17/Nov/2021 15:44:44] \"\u001b[37mGET / HTTP/1.1\u001b[0m\" 200 -\n",
      "127.0.0.1 - - [17/Nov/2021 15:44:44] \"\u001b[37mGET /_dash-layout HTTP/1.1\u001b[0m\" 200 -\n",
      "127.0.0.1 - - [17/Nov/2021 15:44:44] \"\u001b[37mGET /_dash-dependencies HTTP/1.1\u001b[0m\" 200 -\n",
      "127.0.0.1 - - [17/Nov/2021 15:44:44] \"\u001b[37mGET /_dash-component-suites/dash/dcc/async-dropdown.js HTTP/1.1\u001b[0m\" 200 -\n",
      "127.0.0.1 - - [17/Nov/2021 15:44:44] \"\u001b[37mPOST /_dash-update-component HTTP/1.1\u001b[0m\" 200 -\n",
      "127.0.0.1 - - [17/Nov/2021 15:44:54] \"\u001b[37mPOST /_dash-update-component HTTP/1.1\u001b[0m\" 200 -\n",
      "127.0.0.1 - - [17/Nov/2021 15:45:00] \"\u001b[37mPOST /_dash-update-component HTTP/1.1\u001b[0m\" 200 -\n",
      "127.0.0.1 - - [17/Nov/2021 15:45:03] \"\u001b[37mPOST /_dash-update-component HTTP/1.1\u001b[0m\" 200 -\n",
      "127.0.0.1 - - [17/Nov/2021 15:45:07] \"\u001b[37mPOST /_dash-update-component HTTP/1.1\u001b[0m\" 200 -\n",
      "127.0.0.1 - - [17/Nov/2021 15:45:15] \"\u001b[37mPOST /_dash-update-component HTTP/1.1\u001b[0m\" 200 -\n",
      "127.0.0.1 - - [17/Nov/2021 15:45:17] \"\u001b[37mPOST /_dash-update-component HTTP/1.1\u001b[0m\" 200 -\n",
      "127.0.0.1 - - [17/Nov/2021 15:46:57] \"\u001b[37mPOST /_dash-update-component HTTP/1.1\u001b[0m\" 200 -\n",
      "127.0.0.1 - - [17/Nov/2021 15:46:59] \"\u001b[37mPOST /_dash-update-component HTTP/1.1\u001b[0m\" 200 -\n",
      "127.0.0.1 - - [17/Nov/2021 15:47:02] \"\u001b[37mPOST /_dash-update-component HTTP/1.1\u001b[0m\" 200 -\n",
      "127.0.0.1 - - [17/Nov/2021 15:47:04] \"\u001b[37mPOST /_dash-update-component HTTP/1.1\u001b[0m\" 200 -\n",
      "127.0.0.1 - - [17/Nov/2021 15:47:06] \"\u001b[37mPOST /_dash-update-component HTTP/1.1\u001b[0m\" 200 -\n",
      "127.0.0.1 - - [17/Nov/2021 15:47:08] \"\u001b[37mPOST /_dash-update-component HTTP/1.1\u001b[0m\" 200 -\n",
      "127.0.0.1 - - [17/Nov/2021 15:47:09] \"\u001b[37mPOST /_dash-update-component HTTP/1.1\u001b[0m\" 200 -\n",
      "127.0.0.1 - - [17/Nov/2021 15:47:27] \"\u001b[37mPOST /_dash-update-component HTTP/1.1\u001b[0m\" 200 -\n",
      "127.0.0.1 - - [17/Nov/2021 15:47:30] \"\u001b[37mPOST /_dash-update-component HTTP/1.1\u001b[0m\" 200 -\n",
      "127.0.0.1 - - [17/Nov/2021 15:47:32] \"\u001b[37mPOST /_dash-update-component HTTP/1.1\u001b[0m\" 200 -\n",
      "127.0.0.1 - - [17/Nov/2021 15:48:03] \"\u001b[37mPOST /_dash-update-component HTTP/1.1\u001b[0m\" 200 -\n",
      "127.0.0.1 - - [17/Nov/2021 15:48:06] \"\u001b[37mPOST /_dash-update-component HTTP/1.1\u001b[0m\" 200 -\n",
      "127.0.0.1 - - [17/Nov/2021 15:48:08] \"\u001b[37mPOST /_dash-update-component HTTP/1.1\u001b[0m\" 200 -\n",
      "127.0.0.1 - - [17/Nov/2021 15:48:21] \"\u001b[37mPOST /_dash-update-component HTTP/1.1\u001b[0m\" 200 -\n",
      "127.0.0.1 - - [17/Nov/2021 15:48:23] \"\u001b[37mPOST /_dash-update-component HTTP/1.1\u001b[0m\" 200 -\n",
      "127.0.0.1 - - [17/Nov/2021 15:48:25] \"\u001b[37mPOST /_dash-update-component HTTP/1.1\u001b[0m\" 200 -\n"
     ]
    }
   ],
   "source": [
    "if __name__ == '__main__': \n",
    "    app.run_server()"
   ]
  }
 ],
 "metadata": {
  "kernelspec": {
   "display_name": "Python 3",
   "language": "python",
   "name": "python3"
  },
  "language_info": {
   "codemirror_mode": {
    "name": "ipython",
    "version": 3
   },
   "file_extension": ".py",
   "mimetype": "text/x-python",
   "name": "python",
   "nbconvert_exporter": "python",
   "pygments_lexer": "ipython3",
   "version": "3.8.3"
  }
 },
 "nbformat": 4,
 "nbformat_minor": 4
}
