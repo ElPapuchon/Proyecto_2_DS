{
 "cells": [
  {
   "cell_type": "code",
   "execution_count": 1,
   "metadata": {},
   "outputs": [],
   "source": [
    "#Importamos las librerias a utilizar.\n",
    "import numpy as np\n",
    "import neattext as nt\n",
    "import joblib as jbl\n",
    "import os"
   ]
  },
  {
   "cell_type": "code",
   "execution_count": 2,
   "metadata": {},
   "outputs": [],
   "source": [
    "def resultado_class(X):\n",
    "    media = np.mean(X)\n",
    "    \n",
    "    if media >=0.10 and media < 0.15:\n",
    "        return \"Es poco probable que el tweet sea de un desastre\"\n",
    "    elif media >=0.15 and media <0.25:\n",
    "        return \"Es bastante probable que el tweet sea de un desastre\"\n",
    "    elif media >= 0.25 and media <0.50:\n",
    "        return \"Es altamente probable que el tweet sea de un desastre\"\n",
    "    elif media >=0.50 and media <=1:\n",
    "        return \"El tweet es de un desastre\"\n",
    "    else: \n",
    "        return \"El Tweet no es de un desastre\""
   ]
  },
  {
   "cell_type": "code",
   "execution_count": 3,
   "metadata": {},
   "outputs": [],
   "source": [
    "def limpiar(text):\n",
    "\n",
    "    text = nt.TextFrame(str(text)).remove_stopwords(lang = \"en\")\n",
    "    text = nt.TextFrame(str(text)).remove_emails()\n",
    "    text = nt.TextFrame(str(text)).remove_numbers()\n",
    "    text = nt.TextFrame(str(text)).remove_phone_numbers()\n",
    "    text = nt.TextFrame(str(text)).remove_btc_address()\n",
    "    text = nt.TextFrame(str(text)).remove_urls()\n",
    "    text = nt.TextFrame(str(text)).remove_emojis()\n",
    "    text = nt.TextFrame(str(text)).remove_html_tags()\n",
    "    text = nt.TextFrame(str(text)).remove_puncts()\n",
    "    text = nt.TextFrame(str(text)).remove_special_characters()\n",
    "    text = nt.TextFrame(str(text)).remove_stopwords(lang = \"en\")\n",
    "    text = text.word_tokens()\n",
    "    return text\n"
   ]
  },
  {
   "cell_type": "code",
   "execution_count": 4,
   "metadata": {},
   "outputs": [
    {
     "name": "stderr",
     "output_type": "stream",
     "text": [
      "C:\\Users\\alexa\\anaconda3\\lib\\site-packages\\sklearn\\base.py:310: UserWarning: Trying to unpickle estimator CountVectorizer from version 0.23.1 when using version 0.24.1. This might lead to breaking code or invalid results. Use at your own risk.\n",
      "  warnings.warn(\n",
      "C:\\Users\\alexa\\anaconda3\\lib\\site-packages\\sklearn\\base.py:310: UserWarning: Trying to unpickle estimator TfidfTransformer from version 0.23.1 when using version 0.24.1. This might lead to breaking code or invalid results. Use at your own risk.\n",
      "  warnings.warn(\n",
      "C:\\Users\\alexa\\anaconda3\\lib\\site-packages\\sklearn\\base.py:310: UserWarning: Trying to unpickle estimator TfidfVectorizer from version 0.23.1 when using version 0.24.1. This might lead to breaking code or invalid results. Use at your own risk.\n",
      "  warnings.warn(\n"
     ]
    }
   ],
   "source": [
    "count_vec= jbl.load(\"vectorizer\")\n",
    "tfidf_vec= jbl.load(\"tfdvectorizer\")"
   ]
  },
  {
   "cell_type": "code",
   "execution_count": 5,
   "metadata": {},
   "outputs": [
    {
     "name": "stderr",
     "output_type": "stream",
     "text": [
      "C:\\Users\\alexa\\anaconda3\\lib\\site-packages\\sklearn\\base.py:310: UserWarning: Trying to unpickle estimator MultinomialNB from version 0.23.1 when using version 0.24.1. This might lead to breaking code or invalid results. Use at your own risk.\n",
      "  warnings.warn(\n",
      "C:\\Users\\alexa\\anaconda3\\lib\\site-packages\\sklearn\\base.py:310: UserWarning: Trying to unpickle estimator LogisticRegression from version 0.23.1 when using version 0.24.1. This might lead to breaking code or invalid results. Use at your own risk.\n",
      "  warnings.warn(\n"
     ]
    }
   ],
   "source": [
    "model_naive = jbl.load(\"naive_bayes\")\n",
    "model_logistic = jbl.load(\"logistic_regresion\")\n",
    "model_logistic_2 = jbl.load(\"logistic_regresion_V\")"
   ]
  },
  {
   "cell_type": "code",
   "execution_count": 6,
   "metadata": {},
   "outputs": [],
   "source": [
    "import dash\n",
    "from dash import html\n",
    "from dash import dcc\n",
    "from dash.dependencies import Input, Output, State\n",
    "\n",
    "\n",
    "import warnings\n",
    "warnings.filterwarnings(\"ignore\")"
   ]
  },
  {
   "cell_type": "code",
   "execution_count": 7,
   "metadata": {},
   "outputs": [],
   "source": [
    "app = dash.Dash()\n",
    "\n",
    "app.layout = html.Div(style={'background-image': 'url(\"https://about.twitter.com/content/dam/about-twitter/en/brand-toolkit/brand-hero-desktop.jpg.twimg.1920.jpg\")', }, id = 'parent', children = [\n",
    "    html.H1(id = 'H1', children = 'Predicción de Tweets', style = {'textAlign':'center',\\\n",
    "                                            'marginTop':50,'marginBottom':50, 'font-family':'Courier New', 'font-size':'70px', 'color':'#00acee'}),\n",
    "        \n",
    "        html.H2(\"Modelos\",  style ={'font-family':'Courier New', 'color':'#00acee'}),  #para texto\n",
    "        dcc.Dropdown(id = 'dropdown', #menu de opciones \n",
    "        options = [\n",
    "            {'label':'Naive - Bayes (Más recomendado)', 'value':'bayes'}, #lsita de opciones \"label\" el valor que se muestra en pantalla\n",
    "            {'label': 'Regresion Logistica + Vectorizador (recomendado)', 'value':'regresionLV'}, #value es el valor del dropdown\n",
    "            {'label': 'Regresion Logistica (menos recomendado)', 'value':'regresionL'},\n",
    "            ],\n",
    "        value = 'bayes', style = {'font-family':'Courier New'}), #valor inicial \n",
    "    \n",
    "    dcc.Textarea(\n",
    "        id='text_area',\n",
    "        value='',\n",
    "        style={'width': '99.5%', 'height': 300, 'font-family':'Courier New', 'font-size':'20px'},\n",
    "    ),\n",
    "    html.Button('Predecir', id='button', n_clicks=0, style ={'font-family':'Courier New', \"font-size\": \"15px\", 'width': '10%', 'height': 40, 'background-color':'#006494', 'color':'white'}),\n",
    "    html.Button(\"Limpiar Texto\", id = \"button2\", n_clicks = 0, style ={'font-family':'Courier New', \"font-size\": \"15px\", 'width': '10%', 'height': 40, 'background-color':'#006494', 'color':'white'}),\n",
    "    html.Div(id='resultado', style={'whiteSpace': 'pre-line', \"font-size\": \"large\", 'font-family':'Courier New'})])\n",
    "\n",
    "\n",
    "    \n",
    "    \n",
    "@app.callback(\n",
    "    Output('resultado', 'children'),\n",
    "    Input(\"dropdown\", \"value\"),\n",
    "    Input('button', 'n_clicks'),\n",
    "    State('text_area', 'value')\n",
    ")\n",
    "\n",
    "def update_output(dropdown_value,n_clicks, text):\n",
    "    \n",
    "    if n_clicks > 0:\n",
    "        clean_text = limpiar(text)\n",
    "        if dropdown_value == \"bayes\":\n",
    "            x_test=count_vec.transform(clean_text)\n",
    "            resultado = model_naive.predict(x_test)\n",
    "            text = \"\"\n",
    "            \n",
    "            return 'Usando NAIVE - BAYES: \\n{}'.format(resultado_class(resultado))\n",
    "       \n",
    "        elif dropdown_value == \"regresionL\":\n",
    "            x_test=count_vec.transform(clean_text)\n",
    "            resultado = model_logistic.predict(x_test)\n",
    "            text = \"\"\n",
    "            \n",
    "            return 'Usando Regresión Lineal :  \\n{}'.format(resultado_class(resultado))\n",
    "            \n",
    "        else:\n",
    "            x_test=tfidf_vec.transform(clean_text)\n",
    "            resultado = model_logistic_2.predict(x_test)\n",
    "            text = \"\"\n",
    "            \n",
    "            return 'Usando Regresión Lineal +  Vectorizador: \\n{}'.format(resultado_class(resultado))\n",
    "\n",
    "@app.callback(Output('button','n_clicks'),\n",
    "             [Input('button2','n_clicks')])\n",
    "\n",
    "def update(reset):\n",
    "    return 0\n"
   ]
  },
  {
   "cell_type": "code",
   "execution_count": 8,
   "metadata": {},
   "outputs": [
    {
     "name": "stdout",
     "output_type": "stream",
     "text": [
      "Dash is running on http://127.0.0.1:8050/\n",
      "\n",
      " * Serving Flask app \"__main__\" (lazy loading)\n",
      " * Environment: production\n",
      "   WARNING: This is a development server. Do not use it in a production deployment.\n",
      "   Use a production WSGI server instead.\n",
      " * Debug mode: off\n"
     ]
    },
    {
     "name": "stderr",
     "output_type": "stream",
     "text": [
      " * Running on http://127.0.0.1:8050/ (Press CTRL+C to quit)\n",
      "127.0.0.1 - - [19/Nov/2021 00:59:17] \"\u001b[37mGET / HTTP/1.1\u001b[0m\" 200 -\n",
      "127.0.0.1 - - [19/Nov/2021 00:59:17] \"\u001b[37mGET /_dash-layout HTTP/1.1\u001b[0m\" 200 -\n",
      "127.0.0.1 - - [19/Nov/2021 00:59:17] \"\u001b[37mGET /_dash-dependencies HTTP/1.1\u001b[0m\" 200 -\n",
      "127.0.0.1 - - [19/Nov/2021 00:59:17] \"\u001b[37mGET /_dash-component-suites/dash/dcc/async-dropdown.js HTTP/1.1\u001b[0m\" 200 -\n",
      "127.0.0.1 - - [19/Nov/2021 00:59:17] \"\u001b[37mPOST /_dash-update-component HTTP/1.1\u001b[0m\" 200 -\n",
      "127.0.0.1 - - [19/Nov/2021 00:59:17] \"\u001b[37mPOST /_dash-update-component HTTP/1.1\u001b[0m\" 200 -\n",
      "127.0.0.1 - - [19/Nov/2021 00:59:22] \"\u001b[37mPOST /_dash-update-component HTTP/1.1\u001b[0m\" 200 -\n",
      "127.0.0.1 - - [19/Nov/2021 00:59:25] \"\u001b[37mPOST /_dash-update-component HTTP/1.1\u001b[0m\" 200 -\n",
      "127.0.0.1 - - [19/Nov/2021 00:59:28] \"\u001b[37mPOST /_dash-update-component HTTP/1.1\u001b[0m\" 200 -\n",
      "127.0.0.1 - - [19/Nov/2021 00:59:28] \"\u001b[37mPOST /_dash-update-component HTTP/1.1\u001b[0m\" 200 -\n",
      "127.0.0.1 - - [19/Nov/2021 00:59:29] \"\u001b[37mPOST /_dash-update-component HTTP/1.1\u001b[0m\" 200 -\n",
      "127.0.0.1 - - [19/Nov/2021 00:59:30] \"\u001b[37mPOST /_dash-update-component HTTP/1.1\u001b[0m\" 200 -\n",
      "127.0.0.1 - - [19/Nov/2021 00:59:30] \"\u001b[37mPOST /_dash-update-component HTTP/1.1\u001b[0m\" 200 -\n",
      "127.0.0.1 - - [19/Nov/2021 00:59:34] \"\u001b[37mPOST /_dash-update-component HTTP/1.1\u001b[0m\" 200 -\n",
      "127.0.0.1 - - [19/Nov/2021 00:59:37] \"\u001b[37mPOST /_dash-update-component HTTP/1.1\u001b[0m\" 200 -\n",
      "127.0.0.1 - - [19/Nov/2021 00:59:37] \"\u001b[37mPOST /_dash-update-component HTTP/1.1\u001b[0m\" 200 -\n",
      "127.0.0.1 - - [19/Nov/2021 00:59:38] \"\u001b[37mPOST /_dash-update-component HTTP/1.1\u001b[0m\" 200 -\n",
      "127.0.0.1 - - [19/Nov/2021 00:59:40] \"\u001b[37mPOST /_dash-update-component HTTP/1.1\u001b[0m\" 200 -\n",
      "127.0.0.1 - - [19/Nov/2021 00:59:40] \"\u001b[37mPOST /_dash-update-component HTTP/1.1\u001b[0m\" 200 -\n",
      "127.0.0.1 - - [19/Nov/2021 00:59:40] \"\u001b[37mPOST /_dash-update-component HTTP/1.1\u001b[0m\" 200 -\n"
     ]
    }
   ],
   "source": [
    "if __name__ == '__main__': \n",
    "    app.run_server()"
   ]
  },
  {
   "cell_type": "code",
   "execution_count": null,
   "metadata": {},
   "outputs": [],
   "source": []
  }
 ],
 "metadata": {
  "kernelspec": {
   "display_name": "Python 3",
   "language": "python",
   "name": "python3"
  },
  "language_info": {
   "codemirror_mode": {
    "name": "ipython",
    "version": 3
   },
   "file_extension": ".py",
   "mimetype": "text/x-python",
   "name": "python",
   "nbconvert_exporter": "python",
   "pygments_lexer": "ipython3",
   "version": "3.8.8"
  }
 },
 "nbformat": 4,
 "nbformat_minor": 4
}
